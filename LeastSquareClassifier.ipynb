{
 "cells": [
  {
   "cell_type": "code",
   "execution_count": 1,
   "metadata": {},
   "outputs": [],
   "source": [
    "\n",
    "import matplotlib.pyplot as plt\n",
    "import numpy as np\n",
    "\n"
   ]
  },
  {
   "cell_type": "code",
   "execution_count": 2,
   "metadata": {},
   "outputs": [],
   "source": [
    "Xtelda = []\n",
    "#construct x_telda\n",
    "for i in range (1,2401):\n",
    "    my_img = plt.imread(f\"Train/{i}.jpg\")\n",
    "    my_img = my_img.flatten()\n",
    "    my_img = np.append(my_img,1)\n",
    "    Xtelda.append(my_img)"
   ]
  },
  {
   "cell_type": "code",
   "execution_count": 3,
   "metadata": {},
   "outputs": [],
   "source": [
    "Xtelda = np.array(Xtelda)"
   ]
  },
  {
   "cell_type": "code",
   "execution_count": 4,
   "metadata": {},
   "outputs": [],
   "source": [
    "Xtelda_transpose =Xtelda.transpose()"
   ]
  },
  {
   "cell_type": "code",
   "execution_count": 5,
   "metadata": {},
   "outputs": [],
   "source": [
    "Xtelda_mult_Xteldatrans = np.dot(Xtelda_transpose,Xtelda)  "
   ]
  },
  {
   "cell_type": "code",
   "execution_count": 6,
   "metadata": {},
   "outputs": [],
   "source": [
    "XInverse = np.linalg.pinv(Xtelda_mult_Xteldatrans)"
   ]
  },
  {
   "cell_type": "code",
   "execution_count": 7,
   "metadata": {},
   "outputs": [],
   "source": [
    "Matrix = np.dot(XInverse, Xtelda_transpose)"
   ]
  },
  {
   "cell_type": "code",
   "execution_count": 8,
   "metadata": {},
   "outputs": [],
   "source": [
    "t0=[]\n",
    "t1=[]\n",
    "t2=[]\n",
    "t3=[]\n",
    "t4=[] \n",
    "t5=[]\n",
    "t6=[]\n",
    "t7=[]\n",
    "t8=[]\n",
    "t9=[]\n",
    "Training_labels = np.loadtxt(fname = \"Train/Training Labels.txt\")\n",
    "\n",
    "for j in range(0,10):\n",
    "    temp= []\n",
    "    for i in range (0,Training_labels.size):\n",
    "        if(Training_labels[i]==j):\n",
    "            temp.append(1)\n",
    "        else:\n",
    "            temp.append(-1)\n",
    "        \n",
    "    if(j ==0): \n",
    "        t0 = temp\n",
    "    if(j ==1): \n",
    "        t1 = temp\n",
    "    if(j ==2): \n",
    "        t2= temp\n",
    "    if(j ==3): \n",
    "        t3 = temp\n",
    "    if(j ==4): \n",
    "        t4 = temp\n",
    "    if(j ==5): \n",
    "        t5 = temp\n",
    "    if(j ==6): \n",
    "        t6 = temp\n",
    "    if(j ==7): \n",
    "        t7 = temp\n",
    "    if(j ==8): \n",
    "        t8 = temp\n",
    "    if(j ==9): \n",
    "        t9 = temp\n",
    "\n",
    "\n",
    "t0=np.array(t0)\n",
    "t1=np.array(t1)\n",
    "t2=np.array(t2)\n",
    "t3=np.array(t3)\n",
    "t4=np.array(t4)\n",
    "t5=np.array(t5)\n",
    "t6=np.array(t6)\n",
    "t7=np.array(t7)\n",
    "t8=np.array(t8)\n",
    "t9=np.array(t9)\n"
   ]
  },
  {
   "cell_type": "code",
   "execution_count": 9,
   "metadata": {},
   "outputs": [],
   "source": [
    "#training results\n",
    "W0 =  np.dot(Matrix, t0)\n",
    "W1 =  np.dot(Matrix, t1)\n",
    "W2 =  np.dot(Matrix, t2)\n",
    "W3 =  np.dot(Matrix, t3)\n",
    "W4 =  np.dot(Matrix, t4)\n",
    "W5 =  np.dot(Matrix, t5)\n",
    "W6 =  np.dot(Matrix, t6)\n",
    "W7 =  np.dot(Matrix, t7)\n",
    "W8 =  np.dot(Matrix, t8)\n",
    "W9 =  np.dot(Matrix, t9)\n"
   ]
  },
  {
   "cell_type": "code",
   "execution_count": 10,
   "metadata": {},
   "outputs": [],
   "source": [
    "Wtelda = []\n",
    "\n",
    "Wtelda.append(W0)\n",
    "Wtelda.append(W1)\n",
    "Wtelda.append(W2)\n",
    "Wtelda.append(W3)\n",
    "Wtelda.append(W4)\n",
    "Wtelda.append(W5)\n",
    "Wtelda.append(W6)\n",
    "Wtelda.append(W7)\n",
    "Wtelda.append(W8)\n",
    "Wtelda.append(W9)\n",
    "\n",
    "Wtelda=np.array(Wtelda)\n"
   ]
  },
  {
   "cell_type": "code",
   "execution_count": 11,
   "metadata": {},
   "outputs": [],
   "source": [
    "Wtelda_transpose = Wtelda.transpose()"
   ]
  },
  {
   "cell_type": "code",
   "execution_count": 12,
   "metadata": {},
   "outputs": [],
   "source": [
    "X_test = []\n",
    "#construct x_telda\n",
    "for i in range (1,201):\n",
    "    my_img = plt.imread(f\"Test/{i}.jpg\")\n",
    "    my_img = my_img.flatten()\n",
    "    my_img = np.append(my_img,1)\n",
    "    X_test.append(my_img)\n"
   ]
  },
  {
   "cell_type": "code",
   "execution_count": 13,
   "metadata": {},
   "outputs": [],
   "source": [
    "X_test = np.array(X_test)"
   ]
  },
  {
   "cell_type": "code",
   "execution_count": 14,
   "metadata": {},
   "outputs": [
    {
     "data": {
      "text/plain": [
       "(200, 785)"
      ]
     },
     "execution_count": 14,
     "metadata": {},
     "output_type": "execute_result"
    }
   ],
   "source": [
    "X_test.shape"
   ]
  },
  {
   "cell_type": "code",
   "execution_count": 15,
   "metadata": {},
   "outputs": [
    {
     "data": {
      "text/plain": [
       "(785, 10)"
      ]
     },
     "execution_count": 15,
     "metadata": {},
     "output_type": "execute_result"
    }
   ],
   "source": [
    "Wtelda_transpose.shape"
   ]
  },
  {
   "cell_type": "code",
   "execution_count": 16,
   "metadata": {},
   "outputs": [
    {
     "data": {
      "text/plain": [
       "array([[ 0.28438874, -1.48827478, -1.44708347, ..., -0.8047817 ,\n",
       "        -0.82350908, -0.60275003],\n",
       "       [ 0.32469213, -1.03661958, -0.45958314, ..., -0.95947276,\n",
       "        -0.56941885, -1.40210317],\n",
       "       [ 0.90093679, -0.7205354 , -1.08255002, ..., -1.05674266,\n",
       "        -0.88699276, -0.76608575],\n",
       "       ...,\n",
       "       [-0.14020845, -0.85593131, -1.14153363, ..., -0.49893104,\n",
       "        -0.47878884, -0.71287487],\n",
       "       [-0.91741657, -0.78940793, -0.93525986, ..., -0.66098124,\n",
       "        -1.27245993, -0.11843553],\n",
       "       [-1.07527973, -1.04045343, -0.62732148, ..., -0.64603508,\n",
       "        -1.288431  ,  0.43787906]])"
      ]
     },
     "execution_count": 16,
     "metadata": {},
     "output_type": "execute_result"
    }
   ],
   "source": [
    "result = np.dot(X_test, Wtelda_transpose)\n",
    "result"
   ]
  },
  {
   "cell_type": "code",
   "execution_count": 17,
   "metadata": {},
   "outputs": [
    {
     "data": {
      "text/plain": [
       "(200, 10)"
      ]
     },
     "execution_count": 17,
     "metadata": {},
     "output_type": "execute_result"
    }
   ],
   "source": [
    "result.shape"
   ]
  },
  {
   "cell_type": "code",
   "execution_count": 18,
   "metadata": {},
   "outputs": [],
   "source": [
    "prediction = []\n",
    "\n",
    "for i in range (0,200):\n",
    "    Max = result[i][0]\n",
    "    index = -1\n",
    "    for j in range (0,10):\n",
    "        if(result[i][j] >= Max):\n",
    "            Max = result[i][j]\n",
    "            index = j\n",
    "            \n",
    "    prediction.append(index)"
   ]
  },
  {
   "cell_type": "code",
   "execution_count": 19,
   "metadata": {},
   "outputs": [
    {
     "data": {
      "text/plain": [
       "(200,)"
      ]
     },
     "execution_count": 19,
     "metadata": {},
     "output_type": "execute_result"
    }
   ],
   "source": [
    "prediction = np.array(prediction)\n",
    "prediction.shape"
   ]
  },
  {
   "cell_type": "code",
   "execution_count": 20,
   "metadata": {},
   "outputs": [
    {
     "data": {
      "text/plain": [
       "array([0, 0, 0, 0, 0, 0, 0, 0, 0, 0, 0, 0, 0, 0, 0, 0, 0, 0, 6, 0, 1, 1,\n",
       "       1, 1, 1, 1, 1, 1, 1, 1, 1, 1, 1, 1, 1, 1, 1, 1, 1, 1, 2, 1, 2, 1,\n",
       "       2, 2, 0, 4, 3, 2, 3, 2, 1, 5, 2, 2, 4, 2, 2, 2, 3, 3, 3, 3, 5, 3,\n",
       "       3, 3, 3, 3, 3, 3, 3, 3, 3, 3, 3, 3, 8, 8, 4, 4, 4, 4, 4, 4, 4, 4,\n",
       "       4, 5, 4, 4, 7, 4, 4, 4, 4, 4, 4, 9, 8, 5, 5, 3, 5, 5, 5, 5, 5, 5,\n",
       "       9, 8, 6, 5, 5, 5, 9, 5, 5, 5, 6, 6, 6, 6, 6, 6, 6, 6, 6, 6, 6, 6,\n",
       "       6, 6, 6, 6, 6, 6, 6, 6, 7, 7, 7, 7, 7, 7, 7, 7, 7, 9, 7, 9, 2, 7,\n",
       "       9, 7, 7, 7, 7, 3, 8, 5, 8, 9, 5, 8, 8, 8, 8, 8, 8, 8, 8, 2, 8, 8,\n",
       "       8, 8, 8, 5, 9, 7, 9, 7, 7, 9, 3, 5, 9, 9, 4, 9, 9, 9, 7, 9, 9, 0,\n",
       "       9, 9])"
      ]
     },
     "execution_count": 20,
     "metadata": {},
     "output_type": "execute_result"
    }
   ],
   "source": [
    "prediction"
   ]
  },
  {
   "cell_type": "code",
   "execution_count": 21,
   "metadata": {},
   "outputs": [
    {
     "data": {
      "text/plain": [
       "array([0., 0., 0., 0., 0., 0., 0., 0., 0., 0., 0., 0., 0., 0., 0., 0., 0.,\n",
       "       0., 0., 0., 1., 1., 1., 1., 1., 1., 1., 1., 1., 1., 1., 1., 1., 1.,\n",
       "       1., 1., 1., 1., 1., 1., 2., 2., 2., 2., 2., 2., 2., 2., 2., 2., 2.,\n",
       "       2., 2., 2., 2., 2., 2., 2., 2., 2., 3., 3., 3., 3., 3., 3., 3., 3.,\n",
       "       3., 3., 3., 3., 3., 3., 3., 3., 3., 3., 3., 3., 4., 4., 4., 4., 4.,\n",
       "       4., 4., 4., 4., 4., 4., 4., 4., 4., 4., 4., 4., 4., 4., 4., 5., 5.,\n",
       "       5., 5., 5., 5., 5., 5., 5., 5., 5., 5., 5., 5., 5., 5., 5., 5., 5.,\n",
       "       5., 6., 6., 6., 6., 6., 6., 6., 6., 6., 6., 6., 6., 6., 6., 6., 6.,\n",
       "       6., 6., 6., 6., 7., 7., 7., 7., 7., 7., 7., 7., 7., 7., 7., 7., 7.,\n",
       "       7., 7., 7., 7., 7., 7., 7., 8., 8., 8., 8., 8., 8., 8., 8., 8., 8.,\n",
       "       8., 8., 8., 8., 8., 8., 8., 8., 8., 8., 9., 9., 9., 9., 9., 9., 9.,\n",
       "       9., 9., 9., 9., 9., 9., 9., 9., 9., 9., 9., 9., 9.])"
      ]
     },
     "execution_count": 21,
     "metadata": {},
     "output_type": "execute_result"
    }
   ],
   "source": [
    "Testing_Labels = np.loadtxt(fname = \"Test/Test Labels.txt\")\n",
    "Testing_Labels"
   ]
  },
  {
   "cell_type": "code",
   "execution_count": 22,
   "metadata": {},
   "outputs": [],
   "source": [
    "Confusion_Matrix =[x[:] for x in [[0] * 10] * 10]"
   ]
  },
  {
   "cell_type": "code",
   "execution_count": 23,
   "metadata": {},
   "outputs": [],
   "source": [
    "for i in range(Testing_Labels.size):\n",
    "    temp = int(Testing_Labels[i])\n",
    "    Confusion_Matrix[temp][prediction[i]] = Confusion_Matrix[temp][prediction[i]]+1"
   ]
  },
  {
   "cell_type": "code",
   "execution_count": 24,
   "metadata": {},
   "outputs": [],
   "source": [
    "final = np.asarray(Confusion_Matrix)"
   ]
  },
  {
   "cell_type": "code",
   "execution_count": 25,
   "metadata": {},
   "outputs": [],
   "source": [
    "plt.imsave(\"Confusion.jpg\",final)\n",
    "\n"
   ]
  },
  {
   "cell_type": "code",
   "execution_count": 28,
   "metadata": {},
   "outputs": [
    {
     "data": {
      "text/plain": [
       "<matplotlib.image.AxesImage at 0x7f60e7124dd8>"
      ]
     },
     "execution_count": 28,
     "metadata": {},
     "output_type": "execute_result"
    },
    {
     "data": {
      "image/png": "[encoded data removed]",
      "text/plain": [
       "<Figure size 432x288 with 1 Axes>"
      ]
     },
     "metadata": {
      "needs_background": "light"
     },
     "output_type": "display_data"
    }
   ],
   "source": [
    "plt.imshow(Confusion_Matrix)"
   ]
  },
  {
   "cell_type": "code",
   "execution_count": null,
   "metadata": {},
   "outputs": [],
   "source": []
  },
  {
   "cell_type": "code",
   "execution_count": null,
   "metadata": {},
   "outputs": [],
   "source": []
  }
 ],
 "metadata": {
  "kernelspec": {
   "display_name": "Python 3",
   "language": "python",
   "name": "python3"
  },
  "language_info": {
   "codemirror_mode": {
    "name": "ipython",
    "version": 3
   },
   "file_extension": ".py",
   "mimetype": "text/x-python",
   "name": "python",
   "nbconvert_exporter": "python",
   "pygments_lexer": "ipython3",
   "version": "3.6.7"
  }
 },
 "nbformat": 4,
 "nbformat_minor": 2
}
